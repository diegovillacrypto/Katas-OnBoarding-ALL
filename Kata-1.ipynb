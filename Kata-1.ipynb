{
 "cells": [
  {
   "cell_type": "markdown",
   "metadata": {},
   "source": [
    "## Ejercicio N°1: Mi Primer Programa"
   ]
  },
  {
   "cell_type": "code",
   "execution_count": 38,
   "metadata": {},
   "outputs": [
    {
     "name": "stdout",
     "output_type": "stream",
     "text": [
      "El Dia de hoy: 2022-02-06 Y la hora es:01:00:24.192408\n"
     ]
    }
   ],
   "source": [
    "#Programa que muestre la Fecha y Hora\n",
    "from datetime import date,datetime\n",
    "\n",
    "hoy= date.today()\n",
    "Hora= datetime.now().time()\n",
    "\n",
    "print(\"El Dia de hoy: \" + str(hoy), \"Y la hora es:\"+ str(Hora))"
   ]
  },
  {
   "cell_type": "code",
   "execution_count": 43,
   "metadata": {},
   "outputs": [
    {
     "name": "stdout",
     "output_type": "stream",
     "text": [
      "11 Longitud es 35.877159999999996 Años luz\n"
     ]
    }
   ],
   "source": [
    "#Convertidor de Unidades\n",
    "LongitudAtomica = 11\n",
    "\n",
    "Añosluz = 3.26156 * parsec\n",
    "\n",
    "\n",
    "print(str(LongitudAtomica) + \" Longitud es \" + str(Añosluz) + \" Años luz\")"
   ]
  }
 ],
 "metadata": {
  "interpreter": {
   "hash": "57101d49961737db43c013b8649ebd1d83eabd5e15a1237ca2f8bac534ee38af"
  },
  "kernelspec": {
   "display_name": "Python 3.10.2 64-bit",
   "language": "python",
   "name": "python3"
  },
  "language_info": {
   "codemirror_mode": {
    "name": "ipython",
    "version": 3
   },
   "file_extension": ".py",
   "mimetype": "text/x-python",
   "name": "python",
   "nbconvert_exporter": "python",
   "pygments_lexer": "ipython3",
   "version": "3.10.2"
  },
  "orig_nbformat": 4
 },
 "nbformat": 4,
 "nbformat_minor": 2
}
